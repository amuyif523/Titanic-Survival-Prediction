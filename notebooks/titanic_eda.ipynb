{"cells": [{"cell_type": "markdown", "source": ["# Titanic Modeling: SVM"]}, {"cell_type": "code", "source": ["# from sklearn.svm import SVC"]}], "metadata": {}, "nbformat": 4, "nbformat_minor": 2}
